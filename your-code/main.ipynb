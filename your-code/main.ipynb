{
 "cells": [
  {
   "cell_type": "markdown",
   "metadata": {},
   "source": [
    "# Supervised Learning Model Evaluation Lab\n",
    "\n",
    "Complete the exercises below to solidify your knowledge and understanding of supervised learning model evaluation."
   ]
  },
  {
   "cell_type": "code",
   "execution_count": 7,
   "metadata": {},
   "outputs": [],
   "source": [
    "import pandas as pd\n",
    "import warnings\n",
    "warnings.filterwarnings('ignore')\n"
   ]
  },
  {
   "cell_type": "markdown",
   "metadata": {},
   "source": [
    "## Regression Model Evaluation"
   ]
  },
  {
   "cell_type": "code",
   "execution_count": 8,
   "metadata": {},
   "outputs": [],
   "source": [
    "column_names = ['CRIM', 'ZN', 'INDUS', 'CHAS', 'NOX', 'RM', 'AGE', 'DIS', 'RAD', 'TAX', 'PTRATIO', 'B', 'LSTAT', 'MEDV']\n",
    "data = pd.read_csv('housing.csv', header=None, delimiter=r\"\\s+\", names=column_names)"
   ]
  },
  {
   "cell_type": "code",
   "execution_count": 9,
   "metadata": {},
   "outputs": [
    {
     "data": {
      "text/plain": [
       "\"\\nCRIM - per capita crime rate by town\\nZN - proportion of residential land zoned for lots over 25,000 sq.ft.\\nINDUS - proportion of non-retail business acres per town.\\nCHAS - Charles River dummy variable (1 if tract bounds river; 0 otherwise)\\nNOX - nitric oxides concentration (parts per 10 million)\\nRM - average number of rooms per dwelling\\nAGE - proportion of owner-occupied units built prior to 1940\\nDIS - weighted distances to five Boston employment centres\\nRAD - index of accessibility to radial highways\\nTAX - full-value property-tax rate per $10,000\\nPTRATIO - pupil-teacher ratio by town\\nB - 1000(Bk - 0.63)^2 where Bk is the proportion of blacks by town\\nLSTAT - % lower status of the population\\nMEDV - Median value of owner-occupied homes in $1000's\""
      ]
     },
     "execution_count": 9,
     "metadata": {},
     "output_type": "execute_result"
    }
   ],
   "source": [
    "\"\"\"\n",
    "CRIM - per capita crime rate by town\n",
    "ZN - proportion of residential land zoned for lots over 25,000 sq.ft.\n",
    "INDUS - proportion of non-retail business acres per town.\n",
    "CHAS - Charles River dummy variable (1 if tract bounds river; 0 otherwise)\n",
    "NOX - nitric oxides concentration (parts per 10 million)\n",
    "RM - average number of rooms per dwelling\n",
    "AGE - proportion of owner-occupied units built prior to 1940\n",
    "DIS - weighted distances to five Boston employment centres\n",
    "RAD - index of accessibility to radial highways\n",
    "TAX - full-value property-tax rate per $10,000\n",
    "PTRATIO - pupil-teacher ratio by town\n",
    "B - 1000(Bk - 0.63)^2 where Bk is the proportion of blacks by town\n",
    "LSTAT - % lower status of the population\n",
    "MEDV - Median value of owner-occupied homes in $1000's\"\"\""
   ]
  },
  {
   "cell_type": "code",
   "execution_count": 30,
   "metadata": {},
   "outputs": [
    {
     "data": {
      "text/html": [
       "<div>\n",
       "<style scoped>\n",
       "    .dataframe tbody tr th:only-of-type {\n",
       "        vertical-align: middle;\n",
       "    }\n",
       "\n",
       "    .dataframe tbody tr th {\n",
       "        vertical-align: top;\n",
       "    }\n",
       "\n",
       "    .dataframe thead th {\n",
       "        text-align: right;\n",
       "    }\n",
       "</style>\n",
       "<table border=\"1\" class=\"dataframe\">\n",
       "  <thead>\n",
       "    <tr style=\"text-align: right;\">\n",
       "      <th></th>\n",
       "      <th>CRIM</th>\n",
       "      <th>ZN</th>\n",
       "      <th>INDUS</th>\n",
       "      <th>CHAS</th>\n",
       "      <th>NOX</th>\n",
       "      <th>RM</th>\n",
       "      <th>AGE</th>\n",
       "      <th>DIS</th>\n",
       "      <th>RAD</th>\n",
       "      <th>TAX</th>\n",
       "      <th>PTRATIO</th>\n",
       "      <th>B</th>\n",
       "      <th>LSTAT</th>\n",
       "      <th>MEDV</th>\n",
       "    </tr>\n",
       "  </thead>\n",
       "  <tbody>\n",
       "    <tr>\n",
       "      <th>0</th>\n",
       "      <td>0.00632</td>\n",
       "      <td>18.0</td>\n",
       "      <td>2.31</td>\n",
       "      <td>0</td>\n",
       "      <td>0.538</td>\n",
       "      <td>6.575</td>\n",
       "      <td>65.2</td>\n",
       "      <td>4.0900</td>\n",
       "      <td>1</td>\n",
       "      <td>296.0</td>\n",
       "      <td>15.3</td>\n",
       "      <td>396.90</td>\n",
       "      <td>4.98</td>\n",
       "      <td>24.0</td>\n",
       "    </tr>\n",
       "    <tr>\n",
       "      <th>1</th>\n",
       "      <td>0.02731</td>\n",
       "      <td>0.0</td>\n",
       "      <td>7.07</td>\n",
       "      <td>0</td>\n",
       "      <td>0.469</td>\n",
       "      <td>6.421</td>\n",
       "      <td>78.9</td>\n",
       "      <td>4.9671</td>\n",
       "      <td>2</td>\n",
       "      <td>242.0</td>\n",
       "      <td>17.8</td>\n",
       "      <td>396.90</td>\n",
       "      <td>9.14</td>\n",
       "      <td>21.6</td>\n",
       "    </tr>\n",
       "    <tr>\n",
       "      <th>2</th>\n",
       "      <td>0.02729</td>\n",
       "      <td>0.0</td>\n",
       "      <td>7.07</td>\n",
       "      <td>0</td>\n",
       "      <td>0.469</td>\n",
       "      <td>7.185</td>\n",
       "      <td>61.1</td>\n",
       "      <td>4.9671</td>\n",
       "      <td>2</td>\n",
       "      <td>242.0</td>\n",
       "      <td>17.8</td>\n",
       "      <td>392.83</td>\n",
       "      <td>4.03</td>\n",
       "      <td>34.7</td>\n",
       "    </tr>\n",
       "    <tr>\n",
       "      <th>3</th>\n",
       "      <td>0.03237</td>\n",
       "      <td>0.0</td>\n",
       "      <td>2.18</td>\n",
       "      <td>0</td>\n",
       "      <td>0.458</td>\n",
       "      <td>6.998</td>\n",
       "      <td>45.8</td>\n",
       "      <td>6.0622</td>\n",
       "      <td>3</td>\n",
       "      <td>222.0</td>\n",
       "      <td>18.7</td>\n",
       "      <td>394.63</td>\n",
       "      <td>2.94</td>\n",
       "      <td>33.4</td>\n",
       "    </tr>\n",
       "    <tr>\n",
       "      <th>4</th>\n",
       "      <td>0.06905</td>\n",
       "      <td>0.0</td>\n",
       "      <td>2.18</td>\n",
       "      <td>0</td>\n",
       "      <td>0.458</td>\n",
       "      <td>7.147</td>\n",
       "      <td>54.2</td>\n",
       "      <td>6.0622</td>\n",
       "      <td>3</td>\n",
       "      <td>222.0</td>\n",
       "      <td>18.7</td>\n",
       "      <td>396.90</td>\n",
       "      <td>5.33</td>\n",
       "      <td>36.2</td>\n",
       "    </tr>\n",
       "    <tr>\n",
       "      <th>...</th>\n",
       "      <td>...</td>\n",
       "      <td>...</td>\n",
       "      <td>...</td>\n",
       "      <td>...</td>\n",
       "      <td>...</td>\n",
       "      <td>...</td>\n",
       "      <td>...</td>\n",
       "      <td>...</td>\n",
       "      <td>...</td>\n",
       "      <td>...</td>\n",
       "      <td>...</td>\n",
       "      <td>...</td>\n",
       "      <td>...</td>\n",
       "      <td>...</td>\n",
       "    </tr>\n",
       "    <tr>\n",
       "      <th>501</th>\n",
       "      <td>0.06263</td>\n",
       "      <td>0.0</td>\n",
       "      <td>11.93</td>\n",
       "      <td>0</td>\n",
       "      <td>0.573</td>\n",
       "      <td>6.593</td>\n",
       "      <td>69.1</td>\n",
       "      <td>2.4786</td>\n",
       "      <td>1</td>\n",
       "      <td>273.0</td>\n",
       "      <td>21.0</td>\n",
       "      <td>391.99</td>\n",
       "      <td>9.67</td>\n",
       "      <td>22.4</td>\n",
       "    </tr>\n",
       "    <tr>\n",
       "      <th>502</th>\n",
       "      <td>0.04527</td>\n",
       "      <td>0.0</td>\n",
       "      <td>11.93</td>\n",
       "      <td>0</td>\n",
       "      <td>0.573</td>\n",
       "      <td>6.120</td>\n",
       "      <td>76.7</td>\n",
       "      <td>2.2875</td>\n",
       "      <td>1</td>\n",
       "      <td>273.0</td>\n",
       "      <td>21.0</td>\n",
       "      <td>396.90</td>\n",
       "      <td>9.08</td>\n",
       "      <td>20.6</td>\n",
       "    </tr>\n",
       "    <tr>\n",
       "      <th>503</th>\n",
       "      <td>0.06076</td>\n",
       "      <td>0.0</td>\n",
       "      <td>11.93</td>\n",
       "      <td>0</td>\n",
       "      <td>0.573</td>\n",
       "      <td>6.976</td>\n",
       "      <td>91.0</td>\n",
       "      <td>2.1675</td>\n",
       "      <td>1</td>\n",
       "      <td>273.0</td>\n",
       "      <td>21.0</td>\n",
       "      <td>396.90</td>\n",
       "      <td>5.64</td>\n",
       "      <td>23.9</td>\n",
       "    </tr>\n",
       "    <tr>\n",
       "      <th>504</th>\n",
       "      <td>0.10959</td>\n",
       "      <td>0.0</td>\n",
       "      <td>11.93</td>\n",
       "      <td>0</td>\n",
       "      <td>0.573</td>\n",
       "      <td>6.794</td>\n",
       "      <td>89.3</td>\n",
       "      <td>2.3889</td>\n",
       "      <td>1</td>\n",
       "      <td>273.0</td>\n",
       "      <td>21.0</td>\n",
       "      <td>393.45</td>\n",
       "      <td>6.48</td>\n",
       "      <td>22.0</td>\n",
       "    </tr>\n",
       "    <tr>\n",
       "      <th>505</th>\n",
       "      <td>0.04741</td>\n",
       "      <td>0.0</td>\n",
       "      <td>11.93</td>\n",
       "      <td>0</td>\n",
       "      <td>0.573</td>\n",
       "      <td>6.030</td>\n",
       "      <td>80.8</td>\n",
       "      <td>2.5050</td>\n",
       "      <td>1</td>\n",
       "      <td>273.0</td>\n",
       "      <td>21.0</td>\n",
       "      <td>396.90</td>\n",
       "      <td>7.88</td>\n",
       "      <td>11.9</td>\n",
       "    </tr>\n",
       "  </tbody>\n",
       "</table>\n",
       "<p>506 rows × 14 columns</p>\n",
       "</div>"
      ],
      "text/plain": [
       "        CRIM    ZN  INDUS  CHAS    NOX     RM   AGE     DIS  RAD    TAX  \\\n",
       "0    0.00632  18.0   2.31     0  0.538  6.575  65.2  4.0900    1  296.0   \n",
       "1    0.02731   0.0   7.07     0  0.469  6.421  78.9  4.9671    2  242.0   \n",
       "2    0.02729   0.0   7.07     0  0.469  7.185  61.1  4.9671    2  242.0   \n",
       "3    0.03237   0.0   2.18     0  0.458  6.998  45.8  6.0622    3  222.0   \n",
       "4    0.06905   0.0   2.18     0  0.458  7.147  54.2  6.0622    3  222.0   \n",
       "..       ...   ...    ...   ...    ...    ...   ...     ...  ...    ...   \n",
       "501  0.06263   0.0  11.93     0  0.573  6.593  69.1  2.4786    1  273.0   \n",
       "502  0.04527   0.0  11.93     0  0.573  6.120  76.7  2.2875    1  273.0   \n",
       "503  0.06076   0.0  11.93     0  0.573  6.976  91.0  2.1675    1  273.0   \n",
       "504  0.10959   0.0  11.93     0  0.573  6.794  89.3  2.3889    1  273.0   \n",
       "505  0.04741   0.0  11.93     0  0.573  6.030  80.8  2.5050    1  273.0   \n",
       "\n",
       "     PTRATIO       B  LSTAT  MEDV  \n",
       "0       15.3  396.90   4.98  24.0  \n",
       "1       17.8  396.90   9.14  21.6  \n",
       "2       17.8  392.83   4.03  34.7  \n",
       "3       18.7  394.63   2.94  33.4  \n",
       "4       18.7  396.90   5.33  36.2  \n",
       "..       ...     ...    ...   ...  \n",
       "501     21.0  391.99   9.67  22.4  \n",
       "502     21.0  396.90   9.08  20.6  \n",
       "503     21.0  396.90   5.64  23.9  \n",
       "504     21.0  393.45   6.48  22.0  \n",
       "505     21.0  396.90   7.88  11.9  \n",
       "\n",
       "[506 rows x 14 columns]"
      ]
     },
     "execution_count": 30,
     "metadata": {},
     "output_type": "execute_result"
    }
   ],
   "source": [
    "data"
   ]
  },
  {
   "cell_type": "markdown",
   "metadata": {},
   "source": [
    "## 1. Split this data set into training (80%) and testing (20%) sets.\n",
    "\n",
    "The `MEDV` field represents the median value of owner-occupied homes (in $1000's) and is the target variable that we will want to predict."
   ]
  },
  {
   "cell_type": "code",
   "execution_count": 10,
   "metadata": {},
   "outputs": [],
   "source": [
    "from sklearn.linear_model import LinearRegression\n",
    "from sklearn.model_selection import train_test_split\n",
    "from sklearn import datasets\n",
    "\n",
    "\n",
    "diabetes = datasets.load_diabetes()\n",
    "X = diabetes.data\n",
    "y = diabetes.target\n",
    "X_train, X_test, y_train, y_test = train_test_split(X, y, test_size=0.2, random_state=42)\n",
    "model = LinearRegression()\n",
    "model.fit(X_train, y_train)\n",
    "y_train_pred = model.predict(X_train)\n",
    "y_test_pred = model.predict(X_test)"
   ]
  },
  {
   "cell_type": "markdown",
   "metadata": {},
   "source": [
    "## 2. Train a `LinearRegression` model on this data set and generate predictions on both the training and the testing set."
   ]
  },
  {
   "cell_type": "code",
   "execution_count": 11,
   "metadata": {},
   "outputs": [
    {
     "name": "stdout",
     "output_type": "stream",
     "text": [
      "R² training 0.5279\n",
      "R² testing 0.4526\n"
     ]
    }
   ],
   "source": [
    "from sklearn.metrics import r2_score\n",
    "r2_train = r2_score(y_train, y_train_pred)\n",
    "r2_test = r2_score(y_test, y_test_pred)\n",
    "\n",
    "print(f\"R² training {r2_train:.4f}\")\n",
    "print(f\"R² testing {r2_test:.4f}\")\n"
   ]
  },
  {
   "cell_type": "markdown",
   "metadata": {},
   "source": [
    "## 3. Calculate and print R-squared for both the training and the testing set."
   ]
  },
  {
   "cell_type": "code",
   "execution_count": 12,
   "metadata": {},
   "outputs": [
    {
     "name": "stdout",
     "output_type": "stream",
     "text": [
      "MSE training2868.5497\n",
      "MSE testing2900.1936\n"
     ]
    }
   ],
   "source": [
    "from sklearn.metrics import mean_squared_error\n",
    "mse_train = mean_squared_error(y_train, y_train_pred)\n",
    "mse_test = mean_squared_error(y_test, y_test_pred)\n",
    "print(f\"MSE training{mse_train:.4f}\")\n",
    "print(f\"MSE testing{mse_test:.4f}\")\n"
   ]
  },
  {
   "cell_type": "markdown",
   "metadata": {},
   "source": [
    "## 4. Calculate and print mean squared error for both the training and the testing set."
   ]
  },
  {
   "cell_type": "code",
   "execution_count": 13,
   "metadata": {},
   "outputs": [
    {
     "name": "stdout",
     "output_type": "stream",
     "text": [
      "MAE training43.4835\n",
      "MAE testing42.7941\n"
     ]
    }
   ],
   "source": [
    "from sklearn.metrics import mean_absolute_error\n",
    "# حساب متوسط الخطأ المطلق\n",
    "mae_train = mean_absolute_error(y_train, y_train_pred)\n",
    "mae_test = mean_absolute_error(y_test, y_test_pred)\n",
    "print(f\"MAE training{mae_train:.4f}\")\n",
    "print(f\"MAE testing{mae_test:.4f}\")\n",
    "\n"
   ]
  },
  {
   "cell_type": "markdown",
   "metadata": {},
   "source": [
    "## 5. Calculate and print mean absolute error for both the training and the testing set."
   ]
  },
  {
   "cell_type": "code",
   "execution_count": 15,
   "metadata": {},
   "outputs": [
    {
     "name": "stdout",
     "output_type": "stream",
     "text": [
      "MAE مجموعة التدريب: 43.4835\n",
      "MAE مجموعة الاختبار: 42.7941\n"
     ]
    }
   ],
   "source": [
    "from sklearn.metrics import mean_absolute_error\n",
    "\n",
    "# حساب متوسط الخطأ المطلق (MAE) لمجموعة التدريب\n",
    "mae_train = mean_absolute_error(y_train, y_train_pred)\n",
    "\n",
    "# حساب متوسط الخطأ المطلق (MAE) لمجموعة الاختبار\n",
    "mae_test = mean_absolute_error(y_test, y_test_pred)\n",
    "\n",
    "# طباعة القيم\n",
    "print(f\"MAE مجموعة التدريب: {mae_train:.4f}\")\n",
    "print(f\"MAE مجموعة الاختبار: {mae_test:.4f}\")"
   ]
  },
  {
   "cell_type": "markdown",
   "metadata": {},
   "source": [
    "## Classification Model Evaluation"
   ]
  },
  {
   "cell_type": "code",
   "execution_count": 16,
   "metadata": {},
   "outputs": [],
   "source": [
    "from sklearn.datasets import load_iris\n",
    "data = load_iris()"
   ]
  },
  {
   "cell_type": "code",
   "execution_count": 17,
   "metadata": {},
   "outputs": [
    {
     "name": "stdout",
     "output_type": "stream",
     "text": [
      ".. _iris_dataset:\n",
      "\n",
      "Iris plants dataset\n",
      "--------------------\n",
      "\n",
      "**Data Set Characteristics:**\n",
      "\n",
      ":Number of Instances: 150 (50 in each of three classes)\n",
      ":Number of Attributes: 4 numeric, predictive attributes and the class\n",
      ":Attribute Information:\n",
      "    - sepal length in cm\n",
      "    - sepal width in cm\n",
      "    - petal length in cm\n",
      "    - petal width in cm\n",
      "    - class:\n",
      "            - Iris-Setosa\n",
      "            - Iris-Versicolour\n",
      "            - Iris-Virginica\n",
      "\n",
      ":Summary Statistics:\n",
      "\n",
      "============== ==== ==== ======= ===== ====================\n",
      "                Min  Max   Mean    SD   Class Correlation\n",
      "============== ==== ==== ======= ===== ====================\n",
      "sepal length:   4.3  7.9   5.84   0.83    0.7826\n",
      "sepal width:    2.0  4.4   3.05   0.43   -0.4194\n",
      "petal length:   1.0  6.9   3.76   1.76    0.9490  (high!)\n",
      "petal width:    0.1  2.5   1.20   0.76    0.9565  (high!)\n",
      "============== ==== ==== ======= ===== ====================\n",
      "\n",
      ":Missing Attribute Values: None\n",
      ":Class Distribution: 33.3% for each of 3 classes.\n",
      ":Creator: R.A. Fisher\n",
      ":Donor: Michael Marshall (MARSHALL%PLU@io.arc.nasa.gov)\n",
      ":Date: July, 1988\n",
      "\n",
      "The famous Iris database, first used by Sir R.A. Fisher. The dataset is taken\n",
      "from Fisher's paper. Note that it's the same as in R, but not as in the UCI\n",
      "Machine Learning Repository, which has two wrong data points.\n",
      "\n",
      "This is perhaps the best known database to be found in the\n",
      "pattern recognition literature.  Fisher's paper is a classic in the field and\n",
      "is referenced frequently to this day.  (See Duda & Hart, for example.)  The\n",
      "data set contains 3 classes of 50 instances each, where each class refers to a\n",
      "type of iris plant.  One class is linearly separable from the other 2; the\n",
      "latter are NOT linearly separable from each other.\n",
      "\n",
      ".. dropdown:: References\n",
      "\n",
      "  - Fisher, R.A. \"The use of multiple measurements in taxonomic problems\"\n",
      "    Annual Eugenics, 7, Part II, 179-188 (1936); also in \"Contributions to\n",
      "    Mathematical Statistics\" (John Wiley, NY, 1950).\n",
      "  - Duda, R.O., & Hart, P.E. (1973) Pattern Classification and Scene Analysis.\n",
      "    (Q327.D83) John Wiley & Sons.  ISBN 0-471-22361-1.  See page 218.\n",
      "  - Dasarathy, B.V. (1980) \"Nosing Around the Neighborhood: A New System\n",
      "    Structure and Classification Rule for Recognition in Partially Exposed\n",
      "    Environments\".  IEEE Transactions on Pattern Analysis and Machine\n",
      "    Intelligence, Vol. PAMI-2, No. 1, 67-71.\n",
      "  - Gates, G.W. (1972) \"The Reduced Nearest Neighbor Rule\".  IEEE Transactions\n",
      "    on Information Theory, May 1972, 431-433.\n",
      "  - See also: 1988 MLC Proceedings, 54-64.  Cheeseman et al\"s AUTOCLASS II\n",
      "    conceptual clustering system finds 3 classes in the data.\n",
      "  - Many, many more ...\n",
      "\n"
     ]
    }
   ],
   "source": [
    "print(data.DESCR)"
   ]
  },
  {
   "cell_type": "code",
   "execution_count": 18,
   "metadata": {},
   "outputs": [],
   "source": [
    "column_names = data.feature_names"
   ]
  },
  {
   "cell_type": "code",
   "execution_count": 19,
   "metadata": {},
   "outputs": [],
   "source": [
    "df = pd.DataFrame(data['data'],columns=column_names)"
   ]
  },
  {
   "cell_type": "code",
   "execution_count": 20,
   "metadata": {},
   "outputs": [
    {
     "data": {
      "text/html": [
       "<div>\n",
       "<style scoped>\n",
       "    .dataframe tbody tr th:only-of-type {\n",
       "        vertical-align: middle;\n",
       "    }\n",
       "\n",
       "    .dataframe tbody tr th {\n",
       "        vertical-align: top;\n",
       "    }\n",
       "\n",
       "    .dataframe thead th {\n",
       "        text-align: right;\n",
       "    }\n",
       "</style>\n",
       "<table border=\"1\" class=\"dataframe\">\n",
       "  <thead>\n",
       "    <tr style=\"text-align: right;\">\n",
       "      <th></th>\n",
       "      <th>sepal length (cm)</th>\n",
       "      <th>sepal width (cm)</th>\n",
       "      <th>petal length (cm)</th>\n",
       "      <th>petal width (cm)</th>\n",
       "    </tr>\n",
       "  </thead>\n",
       "  <tbody>\n",
       "    <tr>\n",
       "      <th>0</th>\n",
       "      <td>5.1</td>\n",
       "      <td>3.5</td>\n",
       "      <td>1.4</td>\n",
       "      <td>0.2</td>\n",
       "    </tr>\n",
       "    <tr>\n",
       "      <th>1</th>\n",
       "      <td>4.9</td>\n",
       "      <td>3.0</td>\n",
       "      <td>1.4</td>\n",
       "      <td>0.2</td>\n",
       "    </tr>\n",
       "    <tr>\n",
       "      <th>2</th>\n",
       "      <td>4.7</td>\n",
       "      <td>3.2</td>\n",
       "      <td>1.3</td>\n",
       "      <td>0.2</td>\n",
       "    </tr>\n",
       "    <tr>\n",
       "      <th>3</th>\n",
       "      <td>4.6</td>\n",
       "      <td>3.1</td>\n",
       "      <td>1.5</td>\n",
       "      <td>0.2</td>\n",
       "    </tr>\n",
       "    <tr>\n",
       "      <th>4</th>\n",
       "      <td>5.0</td>\n",
       "      <td>3.6</td>\n",
       "      <td>1.4</td>\n",
       "      <td>0.2</td>\n",
       "    </tr>\n",
       "    <tr>\n",
       "      <th>...</th>\n",
       "      <td>...</td>\n",
       "      <td>...</td>\n",
       "      <td>...</td>\n",
       "      <td>...</td>\n",
       "    </tr>\n",
       "    <tr>\n",
       "      <th>145</th>\n",
       "      <td>6.7</td>\n",
       "      <td>3.0</td>\n",
       "      <td>5.2</td>\n",
       "      <td>2.3</td>\n",
       "    </tr>\n",
       "    <tr>\n",
       "      <th>146</th>\n",
       "      <td>6.3</td>\n",
       "      <td>2.5</td>\n",
       "      <td>5.0</td>\n",
       "      <td>1.9</td>\n",
       "    </tr>\n",
       "    <tr>\n",
       "      <th>147</th>\n",
       "      <td>6.5</td>\n",
       "      <td>3.0</td>\n",
       "      <td>5.2</td>\n",
       "      <td>2.0</td>\n",
       "    </tr>\n",
       "    <tr>\n",
       "      <th>148</th>\n",
       "      <td>6.2</td>\n",
       "      <td>3.4</td>\n",
       "      <td>5.4</td>\n",
       "      <td>2.3</td>\n",
       "    </tr>\n",
       "    <tr>\n",
       "      <th>149</th>\n",
       "      <td>5.9</td>\n",
       "      <td>3.0</td>\n",
       "      <td>5.1</td>\n",
       "      <td>1.8</td>\n",
       "    </tr>\n",
       "  </tbody>\n",
       "</table>\n",
       "<p>150 rows × 4 columns</p>\n",
       "</div>"
      ],
      "text/plain": [
       "     sepal length (cm)  sepal width (cm)  petal length (cm)  petal width (cm)\n",
       "0                  5.1               3.5                1.4               0.2\n",
       "1                  4.9               3.0                1.4               0.2\n",
       "2                  4.7               3.2                1.3               0.2\n",
       "3                  4.6               3.1                1.5               0.2\n",
       "4                  5.0               3.6                1.4               0.2\n",
       "..                 ...               ...                ...               ...\n",
       "145                6.7               3.0                5.2               2.3\n",
       "146                6.3               2.5                5.0               1.9\n",
       "147                6.5               3.0                5.2               2.0\n",
       "148                6.2               3.4                5.4               2.3\n",
       "149                5.9               3.0                5.1               1.8\n",
       "\n",
       "[150 rows x 4 columns]"
      ]
     },
     "execution_count": 20,
     "metadata": {},
     "output_type": "execute_result"
    }
   ],
   "source": [
    "df"
   ]
  },
  {
   "cell_type": "code",
   "execution_count": 21,
   "metadata": {},
   "outputs": [],
   "source": [
    "target = pd.DataFrame(data.target)"
   ]
  },
  {
   "cell_type": "code",
   "execution_count": 22,
   "metadata": {},
   "outputs": [
    {
     "data": {
      "text/plain": [
       "dict_keys(['data', 'target', 'frame', 'target_names', 'DESCR', 'feature_names', 'filename', 'data_module'])"
      ]
     },
     "execution_count": 22,
     "metadata": {},
     "output_type": "execute_result"
    }
   ],
   "source": [
    "data.keys()"
   ]
  },
  {
   "cell_type": "code",
   "execution_count": 23,
   "metadata": {},
   "outputs": [
    {
     "data": {
      "text/plain": [
       "array(['setosa', 'versicolor', 'virginica'], dtype='<U10')"
      ]
     },
     "execution_count": 23,
     "metadata": {},
     "output_type": "execute_result"
    }
   ],
   "source": [
    "data['target_names']"
   ]
  },
  {
   "cell_type": "markdown",
   "metadata": {},
   "source": [
    "## 6. Split this data set into training (80%) and testing (20%) sets.\n",
    "\n",
    "The `class` field represents the type of flower and is the target variable that we will want to predict."
   ]
  },
  {
   "cell_type": "code",
   "execution_count": null,
   "metadata": {},
   "outputs": [
    {
     "name": "stdout",
     "output_type": "stream",
     "text": [
      "data training (353, 10), (353,)\n",
      "data testing  (89, 10), (89,)\n"
     ]
    }
   ],
   "source": [
    "\n",
    "\n",
    "\n",
    "X_train, X_test, y_train, y_test = train_test_split(X, y, test_size=0.2, random_state=42)\n",
    "print(f\"data training {X_train.shape}, {y_train.shape}\")\n",
    "print(f\"data testing  {X_test.shape}, {y_test.shape}\")"
   ]
  },
  {
   "cell_type": "markdown",
   "metadata": {},
   "source": [
    "## 7. Train a `LogisticRegression` model on this data set and generate predictions on both the training and the testing set."
   ]
  },
  {
   "cell_type": "code",
   "execution_count": 47,
   "metadata": {},
   "outputs": [
    {
     "name": "stdout",
     "output_type": "stream",
     "text": [
      "The Logistic Regression model has been successfully trained!\n",
      " [139.5475584  179.51720835 134.03875572 291.41702925 123.78965872\n",
      "  92.1723465  258.23238899 181.33732057  90.22411311 108.63375858]\n"
     ]
    }
   ],
   "source": [
    "model.fit(X_train, y_train)\n",
    "y_train_pred = model.predict(X_train)\n",
    "y_test_pred = model.predict(X_test)\n",
    "print(\"The Logistic Regression model has been successfully trained!\")\n",
    "print(f\" {y_test_pred[:10]}\")\n"
   ]
  },
  {
   "cell_type": "markdown",
   "metadata": {},
   "source": [
    "## 8. Calculate and print the accuracy score for both the training and the testing set."
   ]
  },
  {
   "cell_type": "code",
   "execution_count": 52,
   "metadata": {},
   "outputs": [
    {
     "name": "stdout",
     "output_type": "stream",
     "text": [
      "Unique values in y_train: {np.float64(25.0), np.float64(31.0), np.float64(39.0), np.float64(40.0), np.float64(42.0), np.float64(43.0), np.float64(44.0), np.float64(45.0), np.float64(47.0), np.float64(48.0), np.float64(49.0), np.float64(50.0), np.float64(51.0), np.float64(52.0), np.float64(53.0), np.float64(54.0), np.float64(55.0), np.float64(57.0), np.float64(58.0), np.float64(59.0), np.float64(60.0), np.float64(61.0), np.float64(63.0), np.float64(64.0), np.float64(65.0), np.float64(66.0), np.float64(67.0), np.float64(68.0), np.float64(69.0), np.float64(70.0), np.float64(71.0), np.float64(72.0), np.float64(73.0), np.float64(74.0), np.float64(75.0), np.float64(77.0), np.float64(78.0), np.float64(79.0), np.float64(80.0), np.float64(81.0), np.float64(83.0), np.float64(84.0), np.float64(85.0), np.float64(86.0), np.float64(87.0), np.float64(88.0), np.float64(89.0), np.float64(90.0), np.float64(91.0), np.float64(92.0), np.float64(93.0), np.float64(94.0), np.float64(95.0), np.float64(96.0), np.float64(97.0), np.float64(99.0), np.float64(100.0), np.float64(101.0), np.float64(102.0), np.float64(103.0), np.float64(104.0), np.float64(107.0), np.float64(109.0), np.float64(110.0), np.float64(111.0), np.float64(113.0), np.float64(114.0), np.float64(115.0), np.float64(116.0), np.float64(118.0), np.float64(120.0), np.float64(121.0), np.float64(122.0), np.float64(123.0), np.float64(124.0), np.float64(125.0), np.float64(126.0), np.float64(127.0), np.float64(128.0), np.float64(129.0), np.float64(131.0), np.float64(132.0), np.float64(134.0), np.float64(135.0), np.float64(137.0), np.float64(138.0), np.float64(139.0), np.float64(141.0), np.float64(142.0), np.float64(143.0), np.float64(144.0), np.float64(145.0), np.float64(146.0), np.float64(147.0), np.float64(148.0), np.float64(150.0), np.float64(151.0), np.float64(152.0), np.float64(154.0), np.float64(155.0), np.float64(158.0), np.float64(160.0), np.float64(161.0), np.float64(162.0), np.float64(163.0), np.float64(164.0), np.float64(166.0), np.float64(167.0), np.float64(168.0), np.float64(170.0), np.float64(172.0), np.float64(173.0), np.float64(174.0), np.float64(175.0), np.float64(177.0), np.float64(178.0), np.float64(179.0), np.float64(180.0), np.float64(181.0), np.float64(182.0), np.float64(183.0), np.float64(185.0), np.float64(189.0), np.float64(190.0), np.float64(191.0), np.float64(192.0), np.float64(195.0), np.float64(196.0), np.float64(197.0), np.float64(198.0), np.float64(199.0), np.float64(200.0), np.float64(201.0), np.float64(202.0), np.float64(206.0), np.float64(208.0), np.float64(209.0), np.float64(210.0), np.float64(212.0), np.float64(214.0), np.float64(215.0), np.float64(216.0), np.float64(217.0), np.float64(219.0), np.float64(220.0), np.float64(221.0), np.float64(225.0), np.float64(229.0), np.float64(230.0), np.float64(232.0), np.float64(233.0), np.float64(235.0), np.float64(236.0), np.float64(237.0), np.float64(241.0), np.float64(242.0), np.float64(243.0), np.float64(244.0), np.float64(245.0), np.float64(246.0), np.float64(248.0), np.float64(249.0), np.float64(252.0), np.float64(253.0), np.float64(257.0), np.float64(258.0), np.float64(259.0), np.float64(261.0), np.float64(262.0), np.float64(263.0), np.float64(265.0), np.float64(268.0), np.float64(270.0), np.float64(272.0), np.float64(273.0), np.float64(274.0), np.float64(275.0), np.float64(276.0), np.float64(277.0), np.float64(279.0), np.float64(280.0), np.float64(281.0), np.float64(283.0), np.float64(288.0), np.float64(292.0), np.float64(293.0), np.float64(296.0), np.float64(302.0), np.float64(303.0), np.float64(306.0), np.float64(308.0), np.float64(310.0), np.float64(311.0), np.float64(317.0), np.float64(321.0), np.float64(332.0), np.float64(336.0), np.float64(341.0), np.float64(346.0)}\n",
      "Unique values in y_train_pred: {np.float64(31.3636887192705), np.float64(40.714855865056265), np.float64(41.58801343073054), np.float64(42.82093557179127), np.float64(43.47908282673359), np.float64(48.46744384415791), np.float64(49.033870987157286), np.float64(52.658618302371806), np.float64(54.03772647746224), np.float64(57.27797674623346), np.float64(59.33291067850726), np.float64(60.38891310662346), np.float64(61.71608548050567), np.float64(61.34285854634712), np.float64(63.0167167330667), np.float64(64.07814485110481), np.float64(65.03298695169126), np.float64(64.65217703972826), np.float64(66.80634536329207), np.float64(69.7288128283482), np.float64(70.49812787160438), np.float64(71.78241048101299), np.float64(69.9939391905315), np.float64(73.22954368678374), np.float64(74.37415917418096), np.float64(75.56288804296366), np.float64(76.99736974329234), np.float64(73.4931832119072), np.float64(69.43671115685174), np.float64(79.27232801946181), np.float64(71.77973493814076), np.float64(81.22046257913766), np.float64(81.931610865666), np.float64(83.75269577696479), np.float64(84.4601939862259), np.float64(85.40170112440818), np.float64(86.04175597112126), np.float64(84.30745773926346), np.float64(85.5706786975573), np.float64(82.58360969321545), np.float64(90.51118292714449), np.float64(85.33977397324662), np.float64(92.34075671769114), np.float64(93.75445177720654), np.float64(94.06267555395293), np.float64(95.42096532817406), np.float64(95.5360768927865), np.float64(93.9458235120638), np.float64(93.51007661583837), np.float64(91.56130254797871), np.float64(93.19395765292904), np.float64(93.99482918292838), np.float64(102.92339576867118), np.float64(103.69669721590114), np.float64(104.35638379423641), np.float64(104.3674499827871), np.float64(104.6621431639807), np.float64(107.14770792098767), np.float64(105.01861779487075), np.float64(102.15585568808672), np.float64(104.86045976221482), np.float64(104.54419150764808), np.float64(112.6488888554176), np.float64(113.18590114644722), np.float64(114.6848208244498), np.float64(115.28967556889307), np.float64(116.98563960062374), np.float64(117.003621955666), np.float64(118.33354037468808), np.float64(117.31331264599763), np.float64(118.58604398262283), np.float64(120.24409476549161), np.float64(121.39834677204763), np.float64(121.52590858107698), np.float64(115.54877080956396), np.float64(117.02634699246137), np.float64(118.0350112353227), np.float64(127.74392637481648), np.float64(119.27445469127015), np.float64(120.3459296273914), np.float64(121.2660282487587), np.float64(122.15442382585181), np.float64(123.37889159883697), np.float64(124.76847628186007), np.float64(127.49424296969676), np.float64(130.11643736051613), np.float64(130.42540741649339), np.float64(132.99202695458027), np.float64(135.76171129038664), np.float64(137.72314426706163), np.float64(138.2813381911904), np.float64(138.07409792649668), np.float64(142.3803371784277), np.float64(140.74000616111266), np.float64(141.04802340114094), np.float64(142.41100255594134), np.float64(143.6877174595538), np.float64(141.05455112684874), np.float64(145.5568450057939), np.float64(146.0652491159878), np.float64(147.35024316512747), np.float64(148.44648664633937), np.float64(147.02815852805233), np.float64(150.77793461674852), np.float64(151.94648006484266), np.float64(151.21141743368614), np.float64(152.0025098907819), np.float64(152.40619966399993), np.float64(150.8003530235399), np.float64(156.58828815812913), np.float64(157.79420917044797), np.float64(159.39044744863352), np.float64(160.06590015105485), np.float64(161.131446878527), np.float64(160.15126345722425), np.float64(163.18113868527436), np.float64(165.66549653499274), np.float64(166.5238274817713), np.float64(165.97775707315523), np.float64(168.85442819442284), np.float64(169.90434446508078), np.float64(170.26047457557408), np.float64(169.73653238492682), np.float64(172.0556170524336), np.float64(173.08902349095487), np.float64(174.58993309778228), np.float64(171.58241468974305), np.float64(173.70699550306165), np.float64(175.4768538349034), np.float64(179.69629249528114), np.float64(180.2487952163908), np.float64(176.00931550702433), np.float64(182.19909116866293), np.float64(183.05957367187966), np.float64(184.6999893244717), np.float64(184.57999461325414), np.float64(184.30282961150414), np.float64(185.98410633350903), np.float64(184.05964366397745), np.float64(184.61749465413618), np.float64(190.7858481643499), np.float64(191.39748854499663), np.float64(189.2424203425738), np.float64(193.99383833114834), np.float64(193.29011943727568), np.float64(190.1340834066671), np.float64(191.74085382751537), np.float64(197.74802870824635), np.float64(197.01042373524132), np.float64(199.76313049116428), np.float64(200.53638736164422), np.float64(201.6977568969263), np.float64(200.30197843676646), np.float64(203.78762567850256), np.float64(204.8324854037239), np.float64(202.74051910183627), np.float64(205.41280513407563), np.float64(207.84996826200177), np.float64(206.90600558290387), np.float64(207.9427650602237), np.float64(204.91461634954652), np.float64(208.95397996666583), np.float64(210.1353900639265), np.float64(210.7486425651104), np.float64(212.1004532877016), np.float64(210.1335592569613), np.float64(214.1215865323772), np.float64(215.10147915228876), np.float64(212.18177425431878), np.float64(216.50000881180478), np.float64(212.76614307299076), np.float64(221.87606760939545), np.float64(221.67678829185732), np.float64(223.16412241580494), np.float64(224.60574814019915), np.float64(224.41531597550488), np.float64(225.3585334031402), np.float64(224.18319046903127), np.float64(228.853243687845), np.float64(229.35049690329305), np.float64(229.0291633527567), np.float64(230.76321477253722), np.float64(230.28876888442272), np.float64(229.18373641078395), np.float64(234.9206077034957), np.float64(234.56256174632034), np.float64(236.69930416288776), np.float64(234.19710309040255), np.float64(238.76362852458539), np.float64(239.23281831252189), np.float64(240.63167058198525), np.float64(240.6567987461498), np.float64(242.063912971209), np.float64(243.09036663904755), np.float64(241.22847128646566), np.float64(243.84710261248694), np.float64(245.08806139756942), np.float64(247.6268968281671), np.float64(248.8821425549217), np.float64(248.29904572135672), np.float64(250.61211642719235), np.float64(251.71290817285671), np.float64(251.5950735995077), np.float64(256.39780185306194), np.float64(257.77550565173453), np.float64(257.9097484458801), np.float64(259.62047692364234), np.float64(263.2581484235259), np.float64(265.002965087133), np.float64(265.06160932423154), np.float64(267.16400525708), np.float64(270.97704204419574), np.float64(274.2708564186697), np.float64(276.4345355849492), np.float64(283.47862323960373), np.float64(290.9018696697242), np.float64(295.23784290588225), np.float64(295.6954363886468), np.float64(78.46053351673316), np.float64(80.55190897004877), np.float64(82.95531168501589), np.float64(87.85690012907534), np.float64(94.28800853838504), np.float64(95.02705256822918), np.float64(95.36791596218532), np.float64(102.39936530786116), np.float64(103.04383528224179), np.float64(104.51001941919114), np.float64(105.43879584692519), np.float64(106.94134079591171), np.float64(108.28467283911431), np.float64(109.50485097293523), np.float64(109.40386589448494), np.float64(113.77394654745981), np.float64(113.91122229255683), np.float64(115.84012325957474), np.float64(119.18604408983563), np.float64(120.02635891536772), np.float64(121.81254875979525), np.float64(122.74128733156815), np.float64(123.16650190769354), np.float64(124.4113250791267), np.float64(124.59796684860268), np.float64(124.91826403329816), np.float64(125.26665709355376), np.float64(126.71133701969347), np.float64(127.30719379715026), np.float64(127.05103484541397), np.float64(128.86724533415054), np.float64(129.45297330664965), np.float64(129.31456453727267), np.float64(129.19313990630732), np.float64(129.4324169030218), np.float64(132.92972966631143), np.float64(134.07020102893915), np.float64(134.5748962156209), np.float64(136.15406240793038), np.float64(137.31565634941478), np.float64(138.27758136325826), np.float64(138.30485425774353), np.float64(139.66049175193086), np.float64(141.37461393206019), np.float64(142.9654618041664), np.float64(143.98944581599656), np.float64(144.33762512820655), np.float64(146.16627478144017), np.float64(146.14473367102724), np.float64(146.54774958115334), np.float64(147.79865814907936), np.float64(147.3707202162954), np.float64(148.3850190203687), np.float64(148.75088580559228), np.float64(150.40200042661724), np.float64(150.59838223697923), np.float64(151.3201111497809), np.float64(154.1513540239186), np.float64(155.20839776519526), np.float64(156.61906200774513), np.float64(156.92704922328053), np.float64(157.9995013490357), np.float64(157.37976123389925), np.float64(158.06034558549257), np.float64(158.6421541996309), np.float64(158.0759558024774), np.float64(158.274406115049), np.float64(159.7190512674924), np.float64(159.82129154113494), np.float64(160.66899497783908), np.float64(160.2426955369772), np.float64(160.535860829123), np.float64(162.85169942357084), np.float64(162.45065422624984), np.float64(162.6812687077822), np.float64(163.3776703542751), np.float64(164.87113235751576), np.float64(166.3376523843464), np.float64(166.28086909034948), np.float64(166.36445482051897), np.float64(168.95402202349862), np.float64(169.51627959828792), np.float64(172.57664836181698), np.float64(173.71023212745268), np.float64(174.2705011011735), np.float64(175.54790863481352), np.float64(176.8559327666172), np.float64(177.29697474148406), np.float64(178.17821766106067), np.float64(178.5302158429894), np.float64(178.44895737740165), np.float64(180.4355531687275), np.float64(180.78448523852174), np.float64(181.96307760562647), np.float64(182.722875338862), np.float64(183.41094156954367), np.float64(184.1700414856585), np.float64(184.24825534092741), np.float64(184.82620243808697), np.float64(185.94529919195142), np.float64(186.1181678886261), np.float64(188.66574257067296), np.float64(188.48415470839103), np.float64(190.26879892346207), np.float64(191.3418986454056), np.float64(193.5007660128945), np.float64(193.9835114606543), np.float64(194.1271604762784), np.float64(196.3297932430859), np.float64(198.53204157233935), np.float64(200.37666801255722), np.float64(201.76225333366776), np.float64(204.0717788225662), np.float64(216.484110302153), np.float64(223.53533999827306), np.float64(227.52530878958123), np.float64(228.6692219245042), np.float64(229.71733100581096), np.float64(234.81321831547382), np.float64(243.9475249435938), np.float64(69.01513090249348), np.float64(74.6783070927964), np.float64(75.20391982098771), np.float64(81.3765088683207), np.float64(87.88350447503667), np.float64(90.88912593619558), np.float64(98.29831880298359), np.float64(99.17192404190119), np.float64(112.1171722325545), np.float64(112.27831332310093), np.float64(115.74360662866034), np.float64(115.60754303221775), np.float64(117.7861094414563), np.float64(126.5795493977824), np.float64(127.46797614075705)}\n",
      "Model accuracy on training data: 0.0085\n",
      "Model accuracy on test data: 0.0337\n"
     ]
    }
   ],
   "source": [
    "from sklearn.metrics import accuracy_score\n",
    "\n",
    "# التحقق من القيم الفريدة في y_train و y_train_pred\n",
    "print(\"Unique values in y_train:\", set(y_train))\n",
    "print(\"Unique values in y_train_pred:\", set(y_train_pred))\n",
    "\n",
    "# تحويل القيم المستمرة إلى فئات إذا لزم الأمر\n",
    "y_train_pred = y_train_pred.round()  # تقريب القيم للأقرب (للمسائل متعددة الفئات)\n",
    "y_test_pred = y_test_pred.round()\n",
    "\n",
    "# التأكد من أن الأبعاد متوافقة\n",
    "y_train_pred = y_train_pred.reshape(-1)\n",
    "y_test_pred = y_test_pred.reshape(-1)\n",
    "\n",
    "# حساب الدقة على بيانات التدريب والاختبار\n",
    "train_accuracy = accuracy_score(y_train, y_train_pred)\n",
    "test_accuracy = accuracy_score(y_test, y_test_pred)\n",
    "\n",
    "# طباعة النتائج\n",
    "print(f\"Model accuracy on training data: {train_accuracy:.4f}\")\n",
    "print(f\"Model accuracy on test data: {test_accuracy:.4f}\")\n"
   ]
  },
  {
   "cell_type": "markdown",
   "metadata": {},
   "source": [
    "## 9. Calculate and print the balanced accuracy score for both the training and the testing set."
   ]
  },
  {
   "cell_type": "code",
   "execution_count": 54,
   "metadata": {},
   "outputs": [
    {
     "name": "stdout",
     "output_type": "stream",
     "text": [
      "Balanced accuracy on training data: 0.0067\n",
      "Balanced accuracy on test data: 0.0267\n"
     ]
    }
   ],
   "source": [
    "\n",
    "from sklearn.metrics import balanced_accuracy_score\n",
    "\n",
    "# التأكد من أن التوقعات صحيحة (تقريب القيم المستمرة إلى أقرب فئة)\n",
    "y_train_pred = y_train_pred.round()\n",
    "y_test_pred = y_test_pred.round()\n",
    "\n",
    "# إعادة تشكيل المصفوفات لتجنب الأخطاء\n",
    "y_train_pred = y_train_pred.reshape(-1)\n",
    "y_test_pred = y_test_pred.reshape(-1)\n",
    "\n",
    "# حساب الدقة المتوازنة\n",
    "train_balanced_accuracy = balanced_accuracy_score(y_train, y_train_pred)\n",
    "test_balanced_accuracy = balanced_accuracy_score(y_test, y_test_pred)\n",
    "\n",
    "# طباعة النتائج\n",
    "print(f\"Balanced accuracy on training data: {train_balanced_accuracy:.4f}\")\n",
    "print(f\"Balanced accuracy on test data: {test_balanced_accuracy:.4f}\")\n",
    "\n",
    "\n",
    "\n"
   ]
  },
  {
   "cell_type": "markdown",
   "metadata": {},
   "source": [
    "## 10. Calculate and print the precision score for both the training and the testing set."
   ]
  },
  {
   "cell_type": "code",
   "execution_count": 55,
   "metadata": {},
   "outputs": [
    {
     "name": "stdout",
     "output_type": "stream",
     "text": [
      "Weighted accuracy on training data: 0.0067\n",
      "Weighted accuracy on test data: 0.0267\n"
     ]
    }
   ],
   "source": [
    "\n",
    "\n",
    "from sklearn.metrics import balanced_accuracy_score\n",
    "\n",
    "# التأكد من أن التوقعات صحيحة (تقريب القيم المستمرة إلى أقرب فئة)\n",
    "y_train_pred = y_train_pred.round()\n",
    "y_test_pred = y_test_pred.round()\n",
    "\n",
    "# إعادة تشكيل المصفوفات لتجنب الأخطاء\n",
    "y_train_pred = y_train_pred.reshape(-1)\n",
    "y_test_pred = y_test_pred.reshape(-1)\n",
    "\n",
    "# حساب الدقة الموزونة (هي نفسها balanced accuracy في بعض الحالات)\n",
    "train_weighted_accuracy = balanced_accuracy_score(y_train, y_train_pred)\n",
    "test_weighted_accuracy = balanced_accuracy_score(y_test, y_test_pred)\n",
    "\n",
    "# طباعة النتائج\n",
    "print(f\"Weighted accuracy on training data: {train_weighted_accuracy:.4f}\")\n",
    "print(f\"Weighted accuracy on test data: {test_weighted_accuracy:.4f}\")\n"
   ]
  },
  {
   "cell_type": "markdown",
   "metadata": {},
   "source": [
    "## 11. Calculate and print the recall score for both the training and the testing set."
   ]
  },
  {
   "cell_type": "code",
   "execution_count": 56,
   "metadata": {},
   "outputs": [
    {
     "name": "stdout",
     "output_type": "stream",
     "text": [
      "Recall score on training data: 0.0085\n",
      "Recall score on test data: 0.0337\n"
     ]
    }
   ],
   "source": [
    "from sklearn.metrics import recall_score\n",
    "\n",
    "# التأكد من أن التوقعات صحيحة (تقريب القيم المستمرة إلى أقرب فئة)\n",
    "y_train_pred = y_train_pred.round()\n",
    "y_test_pred = y_test_pred.round()\n",
    "\n",
    "# إعادة تشكيل المصفوفات لتجنب الأخطاء\n",
    "y_train_pred = y_train_pred.reshape(-1)\n",
    "y_test_pred = y_test_pred.reshape(-1)\n",
    "\n",
    "# حساب درجة الاسترجاع\n",
    "train_recall = recall_score(y_train, y_train_pred, average=\"weighted\")\n",
    "test_recall = recall_score(y_test, y_test_pred, average=\"weighted\")\n",
    "\n",
    "# طباعة النتائج\n",
    "print(f\"Recall score on training data: {train_recall:.4f}\")\n",
    "print(f\"Recall score on test data: {test_recall:.4f}\")\n",
    "\n"
   ]
  },
  {
   "cell_type": "markdown",
   "metadata": {},
   "source": [
    "## 12. Calculate and print the F1 score for both the training and the testing set."
   ]
  },
  {
   "cell_type": "code",
   "execution_count": 57,
   "metadata": {},
   "outputs": [
    {
     "name": "stdout",
     "output_type": "stream",
     "text": [
      "F1-score on training data: 0.0091\n",
      "F1-score on test data: 0.0375\n"
     ]
    }
   ],
   "source": [
    "from sklearn.metrics import f1_score\n",
    "\n",
    "# التأكد من أن التوقعات صحيحة (تقريب القيم المستمرة إلى أقرب فئة)\n",
    "y_train_pred = y_train_pred.round()\n",
    "y_test_pred = y_test_pred.round()\n",
    "\n",
    "# إعادة تشكيل المصفوفات لتجنب الأخطاء\n",
    "y_train_pred = y_train_pred.reshape(-1)\n",
    "y_test_pred = y_test_pred.reshape(-1)\n",
    "\n",
    "# حساب F1-score\n",
    "train_f1 = f1_score(y_train, y_train_pred, average=\"weighted\")\n",
    "test_f1 = f1_score(y_test, y_test_pred, average=\"weighted\")\n",
    "\n",
    "# طباعة النتائج\n",
    "print(f\"F1-score on training data: {train_f1:.4f}\")\n",
    "print(f\"F1-score on test data: {test_f1:.4f}\")\n",
    "\n"
   ]
  },
  {
   "cell_type": "markdown",
   "metadata": {},
   "source": [
    "## 13. Generate confusion matrices for both the training and the testing set."
   ]
  },
  {
   "cell_type": "code",
   "execution_count": 61,
   "metadata": {},
   "outputs": [
    {
     "name": "stdout",
     "output_type": "stream",
     "text": [
      "Confusion Matrix for Training Data:\n",
      "[[0 0 0 ... 0 0 0]\n",
      " [0 0 0 ... 0 0 0]\n",
      " [0 0 0 ... 0 0 0]\n",
      " ...\n",
      " [0 0 0 ... 0 0 0]\n",
      " [0 0 0 ... 0 0 0]\n",
      " [0 0 0 ... 0 0 0]]\n",
      "\n",
      "Confusion Matrix for Test Data:\n",
      "[[0 0 0 ... 0 0 0]\n",
      " [0 0 0 ... 0 0 0]\n",
      " [0 0 1 ... 0 0 0]\n",
      " ...\n",
      " [0 0 0 ... 0 0 0]\n",
      " [0 0 0 ... 0 0 0]\n",
      " [0 0 0 ... 0 0 0]]\n"
     ]
    },
    {
     "data": {
      "image/png": "[encoded data removed]",
      "text/plain": [
       "<Figure size 1200x500 with 4 Axes>"
      ]
     },
     "metadata": {},
     "output_type": "display_data"
    }
   ],
   "source": [
    "from sklearn.metrics import confusion_matrix\n",
    "import seaborn as sns\n",
    "import matplotlib.pyplot as plt\n",
    "\n",
    "# التأكد من أن القيم التنبؤية صحيحة (تقريب القيم المستمرة إلى أقرب فئة)\n",
    "y_train_pred = y_train_pred.round()\n",
    "y_test_pred = y_test_pred.round()\n",
    "\n",
    "# حساب مصفوفات الالتباس\n",
    "train_conf_matrix = confusion_matrix(y_train, y_train_pred)\n",
    "test_conf_matrix = confusion_matrix(y_test, y_test_pred)\n",
    "\n",
    "# طباعة النتائج النصية\n",
    "print(\"Confusion Matrix for Training Data:\")\n",
    "print(train_conf_matrix)\n",
    "print(\"\\nConfusion Matrix for Test Data:\")\n",
    "print(test_conf_matrix)\n",
    "\n",
    "# رسم مصفوفات الالتباس بشكل مرئي\n",
    "fig, axes = plt.subplots(1, 2, figsize=(12, 5))\n",
    "\n",
    "sns.heatmap(train_conf_matrix, annot=True, fmt=\"d\", cmap=\"Blues\", ax=axes[0])\n",
    "axes[0].set_title(\"Confusion Matrix (Training)\")\n",
    "axes[0].set_xlabel(\"Predicted\")\n",
    "axes[0].set_ylabel(\"Actual\")\n",
    "\n",
    "sns.heatmap(test_conf_matrix, annot=True, fmt=\"d\", cmap=\"Oranges\", ax=axes[1])\n",
    "axes[1].set_title(\"Confusion Matrix (Test)\")\n",
    "axes[1].set_xlabel(\"Predicted\")\n",
    "axes[1].set_ylabel(\"Actual\")\n",
    "\n",
    "plt.show()\n",
    "\n"
   ]
  },
  {
   "cell_type": "code",
   "execution_count": 60,
   "metadata": {},
   "outputs": [
    {
     "name": "stdout",
     "output_type": "stream",
     "text": [
      "Collecting seaborn\n",
      "  Downloading seaborn-0.13.2-py3-none-any.whl.metadata (5.4 kB)\n",
      "Requirement already satisfied: numpy!=1.24.0,>=1.20 in c:\\users\\arwa0\\appdata\\local\\packages\\pythonsoftwarefoundation.python.3.11_qbz5n2kfra8p0\\localcache\\local-packages\\python311\\site-packages (from seaborn) (2.2.3)\n",
      "Requirement already satisfied: pandas>=1.2 in c:\\users\\arwa0\\appdata\\local\\packages\\pythonsoftwarefoundation.python.3.11_qbz5n2kfra8p0\\localcache\\local-packages\\python311\\site-packages (from seaborn) (2.2.3)\n",
      "Requirement already satisfied: matplotlib!=3.6.1,>=3.4 in c:\\users\\arwa0\\appdata\\local\\packages\\pythonsoftwarefoundation.python.3.11_qbz5n2kfra8p0\\localcache\\local-packages\\python311\\site-packages (from seaborn) (3.10.0)\n",
      "Requirement already satisfied: contourpy>=1.0.1 in c:\\users\\arwa0\\appdata\\local\\packages\\pythonsoftwarefoundation.python.3.11_qbz5n2kfra8p0\\localcache\\local-packages\\python311\\site-packages (from matplotlib!=3.6.1,>=3.4->seaborn) (1.3.1)\n",
      "Requirement already satisfied: cycler>=0.10 in c:\\users\\arwa0\\appdata\\local\\packages\\pythonsoftwarefoundation.python.3.11_qbz5n2kfra8p0\\localcache\\local-packages\\python311\\site-packages (from matplotlib!=3.6.1,>=3.4->seaborn) (0.12.1)\n",
      "Requirement already satisfied: fonttools>=4.22.0 in c:\\users\\arwa0\\appdata\\local\\packages\\pythonsoftwarefoundation.python.3.11_qbz5n2kfra8p0\\localcache\\local-packages\\python311\\site-packages (from matplotlib!=3.6.1,>=3.4->seaborn) (4.56.0)\n",
      "Requirement already satisfied: kiwisolver>=1.3.1 in c:\\users\\arwa0\\appdata\\local\\packages\\pythonsoftwarefoundation.python.3.11_qbz5n2kfra8p0\\localcache\\local-packages\\python311\\site-packages (from matplotlib!=3.6.1,>=3.4->seaborn) (1.4.8)\n",
      "Requirement already satisfied: packaging>=20.0 in c:\\users\\arwa0\\appdata\\local\\packages\\pythonsoftwarefoundation.python.3.11_qbz5n2kfra8p0\\localcache\\local-packages\\python311\\site-packages (from matplotlib!=3.6.1,>=3.4->seaborn) (24.2)\n",
      "Requirement already satisfied: pillow>=8 in c:\\users\\arwa0\\appdata\\local\\packages\\pythonsoftwarefoundation.python.3.11_qbz5n2kfra8p0\\localcache\\local-packages\\python311\\site-packages (from matplotlib!=3.6.1,>=3.4->seaborn) (11.1.0)\n",
      "Requirement already satisfied: pyparsing>=2.3.1 in c:\\users\\arwa0\\appdata\\local\\packages\\pythonsoftwarefoundation.python.3.11_qbz5n2kfra8p0\\localcache\\local-packages\\python311\\site-packages (from matplotlib!=3.6.1,>=3.4->seaborn) (3.2.1)\n",
      "Requirement already satisfied: python-dateutil>=2.7 in c:\\users\\arwa0\\appdata\\local\\packages\\pythonsoftwarefoundation.python.3.11_qbz5n2kfra8p0\\localcache\\local-packages\\python311\\site-packages (from matplotlib!=3.6.1,>=3.4->seaborn) (2.9.0.post0)\n",
      "Requirement already satisfied: pytz>=2020.1 in c:\\users\\arwa0\\appdata\\local\\packages\\pythonsoftwarefoundation.python.3.11_qbz5n2kfra8p0\\localcache\\local-packages\\python311\\site-packages (from pandas>=1.2->seaborn) (2025.1)\n",
      "Requirement already satisfied: tzdata>=2022.7 in c:\\users\\arwa0\\appdata\\local\\packages\\pythonsoftwarefoundation.python.3.11_qbz5n2kfra8p0\\localcache\\local-packages\\python311\\site-packages (from pandas>=1.2->seaborn) (2025.1)\n",
      "Requirement already satisfied: six>=1.5 in c:\\users\\arwa0\\appdata\\local\\packages\\pythonsoftwarefoundation.python.3.11_qbz5n2kfra8p0\\localcache\\local-packages\\python311\\site-packages (from python-dateutil>=2.7->matplotlib!=3.6.1,>=3.4->seaborn) (1.17.0)\n",
      "Downloading seaborn-0.13.2-py3-none-any.whl (294 kB)\n",
      "   ---------------------------------------- 0.0/294.9 kB ? eta -:--:--\n",
      "   - -------------------------------------- 10.2/294.9 kB ? eta -:--:--\n",
      "   - -------------------------------------- 10.2/294.9 kB ? eta -:--:--\n",
      "   ---- ---------------------------------- 30.7/294.9 kB 262.6 kB/s eta 0:00:02\n",
      "   ----- --------------------------------- 41.0/294.9 kB 245.8 kB/s eta 0:00:02\n",
      "   ------------ -------------------------- 92.2/294.9 kB 403.5 kB/s eta 0:00:01\n",
      "   ------------ -------------------------- 92.2/294.9 kB 403.5 kB/s eta 0:00:01\n",
      "   ------------------ ------------------- 143.4/294.9 kB 473.7 kB/s eta 0:00:01\n",
      "   ------------------- ------------------ 153.6/294.9 kB 458.0 kB/s eta 0:00:01\n",
      "   ------------------- ------------------ 153.6/294.9 kB 458.0 kB/s eta 0:00:01\n",
      "   ------------------------- ------------ 194.6/294.9 kB 420.8 kB/s eta 0:00:01\n",
      "   ------------------------------ ------- 235.5/294.9 kB 465.5 kB/s eta 0:00:01\n",
      "   ------------------------------- ------ 245.8/294.9 kB 456.4 kB/s eta 0:00:01\n",
      "   ------------------------------- ------ 245.8/294.9 kB 456.4 kB/s eta 0:00:01\n",
      "   ---------------------------------- --- 266.2/294.9 kB 431.0 kB/s eta 0:00:01\n",
      "   -------------------------------------- 294.9/294.9 kB 434.0 kB/s eta 0:00:00\n",
      "Installing collected packages: seaborn\n",
      "Successfully installed seaborn-0.13.2\n"
     ]
    },
    {
     "name": "stderr",
     "output_type": "stream",
     "text": [
      "\n",
      "[notice] A new release of pip is available: 24.0 -> 25.0.1\n",
      "[notice] To update, run: C:\\Users\\arwa0\\AppData\\Local\\Microsoft\\WindowsApps\\PythonSoftwareFoundation.Python.3.11_qbz5n2kfra8p0\\python.exe -m pip install --upgrade pip\n"
     ]
    }
   ],
   "source": [
    "!pip install seaborn\n"
   ]
  },
  {
   "cell_type": "markdown",
   "metadata": {},
   "source": [
    "## Bonus: For each of the data sets in this lab, try training with some of the other models you have learned about, recalculate the evaluation metrics, and compare to determine which models perform best on each data set."
   ]
  },
  {
   "cell_type": "code",
   "execution_count": 63,
   "metadata": {},
   "outputs": [
    {
     "name": "stdout",
     "output_type": "stream",
     "text": [
      "X shape: (505, 503), y shape: (505,)\n",
      "   0.00632  18.00   2.310  0  0.5380  6.5750  65.20  4.0900   1  296.0  15.30 396.90   4.98  24.00_ 0.01096  55.00   2.250  0  0.3890  6.4530  31.90  7.3073   1  300.0  15.30 394.72   8.23  22.00  \\\n",
      "0                                              False                                                                                                                                                  \n",
      "1                                              False                                                                                                                                                  \n",
      "2                                              False                                                                                                                                                  \n",
      "3                                              False                                                                                                                                                  \n",
      "4                                              False                                                                                                                                                  \n",
      "\n",
      "   0.00632  18.00   2.310  0  0.5380  6.5750  65.20  4.0900   1  296.0  15.30 396.90   4.98  24.00_ 0.01301  35.00   1.520  0  0.4420  7.2410  49.30  7.0379   1  284.0  15.50 394.74   5.49  32.70  \\\n",
      "0                                              False                                                                                                                                                  \n",
      "1                                              False                                                                                                                                                  \n",
      "2                                              False                                                                                                                                                  \n",
      "3                                              False                                                                                                                                                  \n",
      "4                                              False                                                                                                                                                  \n",
      "\n",
      "   0.00632  18.00   2.310  0  0.5380  6.5750  65.20  4.0900   1  296.0  15.30 396.90   4.98  24.00_ 0.01311  90.00   1.220  0  0.4030  7.2490  21.90  8.6966   5  226.0  17.90 395.93   4.81  35.40  \\\n",
      "0                                              False                                                                                                                                                  \n",
      "1                                              False                                                                                                                                                  \n",
      "2                                              False                                                                                                                                                  \n",
      "3                                              False                                                                                                                                                  \n",
      "4                                              False                                                                                                                                                  \n",
      "\n",
      "   0.00632  18.00   2.310  0  0.5380  6.5750  65.20  4.0900   1  296.0  15.30 396.90   4.98  24.00_ 0.01360  75.00   4.000  0  0.4100  5.8880  47.60  7.3197   3  469.0  21.10 396.90  14.80  18.90  \\\n",
      "0                                              False                                                                                                                                                  \n",
      "1                                              False                                                                                                                                                  \n",
      "2                                              False                                                                                                                                                  \n",
      "3                                              False                                                                                                                                                  \n",
      "4                                              False                                                                                                                                                  \n",
      "\n",
      "   0.00632  18.00   2.310  0  0.5380  6.5750  65.20  4.0900   1  296.0  15.30 396.90   4.98  24.00_ 0.01381  80.00   0.460  0  0.4220  7.8750  32.00  5.6484   4  255.0  14.40 394.23   2.97  50.00  \\\n",
      "0                                              False                                                                                                                                                  \n",
      "1                                              False                                                                                                                                                  \n",
      "2                                              False                                                                                                                                                  \n",
      "3                                              False                                                                                                                                                  \n",
      "4                                              False                                                                                                                                                  \n",
      "\n",
      "   0.00632  18.00   2.310  0  0.5380  6.5750  65.20  4.0900   1  296.0  15.30 396.90   4.98  24.00_ 0.01432 100.00   1.320  0  0.4110  6.8160  40.50  8.3248   5  256.0  15.10 392.90   3.95  31.60  \\\n",
      "0                                              False                                                                                                                                                  \n",
      "1                                              False                                                                                                                                                  \n",
      "2                                              False                                                                                                                                                  \n",
      "3                                              False                                                                                                                                                  \n",
      "4                                              False                                                                                                                                                  \n",
      "\n",
      "   0.00632  18.00   2.310  0  0.5380  6.5750  65.20  4.0900   1  296.0  15.30 396.90   4.98  24.00_ 0.01439  60.00   2.930  0  0.4010  6.6040  18.80  6.2196   1  265.0  15.60 376.70   4.38  29.10  \\\n",
      "0                                              False                                                                                                                                                  \n",
      "1                                              False                                                                                                                                                  \n",
      "2                                              False                                                                                                                                                  \n",
      "3                                              False                                                                                                                                                  \n",
      "4                                              False                                                                                                                                                  \n",
      "\n",
      "   0.00632  18.00   2.310  0  0.5380  6.5750  65.20  4.0900   1  296.0  15.30 396.90   4.98  24.00_ 0.01501  80.00   2.010  0  0.4350  6.6350  29.70  8.3440   4  280.0  17.00 390.94   5.99  24.50  \\\n",
      "0                                              False                                                                                                                                                  \n",
      "1                                              False                                                                                                                                                  \n",
      "2                                              False                                                                                                                                                  \n",
      "3                                              False                                                                                                                                                  \n",
      "4                                              False                                                                                                                                                  \n",
      "\n",
      "   0.00632  18.00   2.310  0  0.5380  6.5750  65.20  4.0900   1  296.0  15.30 396.90   4.98  24.00_ 0.01501  90.00   1.210  1  0.4010  7.9230  24.80  5.8850   1  198.0  13.60 395.52   3.16  50.00  \\\n",
      "0                                              False                                                                                                                                                  \n",
      "1                                              False                                                                                                                                                  \n",
      "2                                              False                                                                                                                                                  \n",
      "3                                              False                                                                                                                                                  \n",
      "4                                              False                                                                                                                                                  \n",
      "\n",
      "   0.00632  18.00   2.310  0  0.5380  6.5750  65.20  4.0900   1  296.0  15.30 396.90   4.98  24.00_ 0.01538  90.00   3.750  0  0.3940  7.4540  34.20  6.3361   3  244.0  15.90 386.34   3.11  44.00  \\\n",
      "0                                              False                                                                                                                                                  \n",
      "1                                              False                                                                                                                                                  \n",
      "2                                              False                                                                                                                                                  \n",
      "3                                              False                                                                                                                                                  \n",
      "4                                              False                                                                                                                                                  \n",
      "\n",
      "   ...  \\\n",
      "0  ...   \n",
      "1  ...   \n",
      "2  ...   \n",
      "3  ...   \n",
      "4  ...   \n",
      "\n",
      "   0.00632  18.00   2.310  0  0.5380  6.5750  65.20  4.0900   1  296.0  15.30 396.90   4.98  24.00_25.94060   0.00  18.100  0  0.6790  5.3040  89.10  1.6475  24  666.0  20.20 127.36  26.64  10.40  \\\n",
      "0                                              False                                                                                                                                                  \n",
      "1                                              False                                                                                                                                                  \n",
      "2                                              False                                                                                                                                                  \n",
      "3                                              False                                                                                                                                                  \n",
      "4                                              False                                                                                                                                                  \n",
      "\n",
      "   0.00632  18.00   2.310  0  0.5380  6.5750  65.20  4.0900   1  296.0  15.30 396.90   4.98  24.00_28.65580   0.00  18.100  0  0.5970  5.1550 100.00  1.5894  24  666.0  20.20 210.97  20.08  16.30  \\\n",
      "0                                              False                                                                                                                                                  \n",
      "1                                              False                                                                                                                                                  \n",
      "2                                              False                                                                                                                                                  \n",
      "3                                              False                                                                                                                                                  \n",
      "4                                              False                                                                                                                                                  \n",
      "\n",
      "   0.00632  18.00   2.310  0  0.5380  6.5750  65.20  4.0900   1  296.0  15.30 396.90   4.98  24.00_37.66190   0.00  18.100  0  0.6790  6.2020  78.70  1.8629  24  666.0  20.20  18.82  14.52  10.90  \\\n",
      "0                                              False                                                                                                                                                  \n",
      "1                                              False                                                                                                                                                  \n",
      "2                                              False                                                                                                                                                  \n",
      "3                                              False                                                                                                                                                  \n",
      "4                                              False                                                                                                                                                  \n",
      "\n",
      "   0.00632  18.00   2.310  0  0.5380  6.5750  65.20  4.0900   1  296.0  15.30 396.90   4.98  24.00_38.35180   0.00  18.100  0  0.6930  5.4530 100.00  1.4896  24  666.0  20.20 396.90  30.59   5.00  \\\n",
      "0                                              False                                                                                                                                                  \n",
      "1                                              False                                                                                                                                                  \n",
      "2                                              False                                                                                                                                                  \n",
      "3                                              False                                                                                                                                                  \n",
      "4                                              False                                                                                                                                                  \n",
      "\n",
      "   0.00632  18.00   2.310  0  0.5380  6.5750  65.20  4.0900   1  296.0  15.30 396.90   4.98  24.00_41.52920   0.00  18.100  0  0.6930  5.5310  85.40  1.6074  24  666.0  20.20 329.46  27.38   8.50  \\\n",
      "0                                              False                                                                                                                                                  \n",
      "1                                              False                                                                                                                                                  \n",
      "2                                              False                                                                                                                                                  \n",
      "3                                              False                                                                                                                                                  \n",
      "4                                              False                                                                                                                                                  \n",
      "\n",
      "   0.00632  18.00   2.310  0  0.5380  6.5750  65.20  4.0900   1  296.0  15.30 396.90   4.98  24.00_45.74610   0.00  18.100  0  0.6930  4.5190 100.00  1.6582  24  666.0  20.20  88.27  36.98   7.00  \\\n",
      "0                                              False                                                                                                                                                  \n",
      "1                                              False                                                                                                                                                  \n",
      "2                                              False                                                                                                                                                  \n",
      "3                                              False                                                                                                                                                  \n",
      "4                                              False                                                                                                                                                  \n",
      "\n",
      "   0.00632  18.00   2.310  0  0.5380  6.5750  65.20  4.0900   1  296.0  15.30 396.90   4.98  24.00_51.13580   0.00  18.100  0  0.5970  5.7570 100.00  1.4130  24  666.0  20.20   2.60  10.11  15.00  \\\n",
      "0                                              False                                                                                                                                                  \n",
      "1                                              False                                                                                                                                                  \n",
      "2                                              False                                                                                                                                                  \n",
      "3                                              False                                                                                                                                                  \n",
      "4                                              False                                                                                                                                                  \n",
      "\n",
      "   0.00632  18.00   2.310  0  0.5380  6.5750  65.20  4.0900   1  296.0  15.30 396.90   4.98  24.00_67.92080   0.00  18.100  0  0.6930  5.6830 100.00  1.4254  24  666.0  20.20 384.97  22.98   5.00  \\\n",
      "0                                              False                                                                                                                                                  \n",
      "1                                              False                                                                                                                                                  \n",
      "2                                              False                                                                                                                                                  \n",
      "3                                              False                                                                                                                                                  \n",
      "4                                              False                                                                                                                                                  \n",
      "\n",
      "   0.00632  18.00   2.310  0  0.5380  6.5750  65.20  4.0900   1  296.0  15.30 396.90   4.98  24.00_73.53410   0.00  18.100  0  0.6790  5.9570 100.00  1.8026  24  666.0  20.20  16.45  20.62   8.80  \\\n",
      "0                                              False                                                                                                                                                  \n",
      "1                                              False                                                                                                                                                  \n",
      "2                                              False                                                                                                                                                  \n",
      "3                                              False                                                                                                                                                  \n",
      "4                                              False                                                                                                                                                  \n",
      "\n",
      "   0.00632  18.00   2.310  0  0.5380  6.5750  65.20  4.0900   1  296.0  15.30 396.90   4.98  24.00_88.97620   0.00  18.100  0  0.6710  6.9680  91.90  1.4165  24  666.0  20.20 396.90  17.21  10.40  \n",
      "0                                              False                                                                                                                                                 \n",
      "1                                              False                                                                                                                                                 \n",
      "2                                              False                                                                                                                                                 \n",
      "3                                              False                                                                                                                                                 \n",
      "4                                              False                                                                                                                                                 \n",
      "\n",
      "[5 rows x 504 columns]\n"
     ]
    },
    {
     "data": {
      "image/png": "[encoded data removed]",
      "text/plain": [
       "<Figure size 640x480 with 2 Axes>"
      ]
     },
     "metadata": {},
     "output_type": "display_data"
    },
    {
     "data": {
      "image/png": "[encoded data removed]",
      "text/plain": [
       "<Figure size 640x480 with 2 Axes>"
      ]
     },
     "metadata": {},
     "output_type": "display_data"
    },
    {
     "data": {
      "image/png": "[encoded data removed]",
      "text/plain": [
       "<Figure size 640x480 with 2 Axes>"
      ]
     },
     "metadata": {},
     "output_type": "display_data"
    },
    {
     "data": {
      "image/png": "[encoded data removed]",
      "text/plain": [
       "<Figure size 640x480 with 2 Axes>"
      ]
     },
     "metadata": {},
     "output_type": "display_data"
    },
    {
     "name": "stdout",
     "output_type": "stream",
     "text": [
      "                 Model  Train Accuracy  Test Accuracy  Train F1-score  \\\n",
      "0  Logistic Regression        0.997525            1.0        0.996289   \n",
      "1        Random Forest        0.997525            1.0        0.996289   \n",
      "2                  SVM        0.997525            1.0        0.996289   \n",
      "3                  KNN        0.997525            1.0        0.996289   \n",
      "\n",
      "   Test F1-score  \n",
      "0            1.0  \n",
      "1            1.0  \n",
      "2            1.0  \n",
      "3            1.0  \n"
     ]
    }
   ],
   "source": [
    "import numpy as np\n",
    "import pandas as pd\n",
    "from sklearn.model_selection import train_test_split\n",
    "from sklearn.metrics import accuracy_score, f1_score, confusion_matrix\n",
    "from sklearn.linear_model import LogisticRegression\n",
    "from sklearn.ensemble import RandomForestClassifier\n",
    "from sklearn.svm import SVC\n",
    "from sklearn.neighbors import KNeighborsClassifier\n",
    "import seaborn as sns\n",
    "import matplotlib.pyplot as plt\n",
    "\n",
    "# Load dataset\n",
    "df = pd.read_csv(\"housing.csv\")  # Ensure file exists\n",
    "\n",
    "# Drop missing values\n",
    "df.dropna(inplace=True)\n",
    "\n",
    "# Convert categorical columns (if any)\n",
    "df = pd.get_dummies(df, drop_first=True)\n",
    "\n",
    "# Separate features and target\n",
    "X = df.iloc[:, :-1]  # Features\n",
    "y = df.iloc[:, -1]   # Target\n",
    "\n",
    "# Check data\n",
    "print(f\"X shape: {X.shape}, y shape: {y.shape}\")\n",
    "print(df.head())\n",
    "\n",
    "# Ensure target is categorical (for classification)\n",
    "if y.dtype != \"int\" and y.dtype != \"float\":\n",
    "    y = y.astype(\"category\").cat.codes  # Convert categories to numerical values\n",
    "\n",
    "# Split into training/testing sets\n",
    "X_train, X_test, y_train, y_test = train_test_split(X, y, test_size=0.2, random_state=42)\n",
    "\n",
    "# Models\n",
    "models = {\n",
    "    \"Logistic Regression\": LogisticRegression(max_iter=1000),\n",
    "    \"Random Forest\": RandomForestClassifier(),\n",
    "    \"SVM\": SVC(),\n",
    "    \"KNN\": KNeighborsClassifier()\n",
    "}\n",
    "\n",
    "results = []\n",
    "\n",
    "for name, model in models.items():\n",
    "    model.fit(X_train, y_train)  # Train model\n",
    "    y_pred_train = model.predict(X_train)\n",
    "    y_pred_test = model.predict(X_test)\n",
    "\n",
    "    # Compute metrics\n",
    "    train_acc = accuracy_score(y_train, y_pred_train)\n",
    "    test_acc = accuracy_score(y_test, y_pred_test)\n",
    "    train_f1 = f1_score(y_train, y_pred_train, average=\"weighted\")\n",
    "    test_f1 = f1_score(y_test, y_pred_test, average=\"weighted\")\n",
    "\n",
    "    results.append([name, train_acc, test_acc, train_f1, test_f1])\n",
    "\n",
    "    # Confusion Matrix\n",
    "    cm = confusion_matrix(y_test, y_pred_test)\n",
    "    sns.heatmap(cm, annot=True, fmt=\"d\", cmap=\"Blues\")\n",
    "    plt.title(f\"Confusion Matrix - {name}\")\n",
    "    plt.xlabel(\"Predicted\")\n",
    "    plt.ylabel(\"Actual\")\n",
    "    plt.show()\n",
    "\n",
    "# Display results\n",
    "results_df = pd.DataFrame(results, columns=[\"Model\", \"Train Accuracy\", \"Test Accuracy\", \"Train F1-score\", \"Test F1-score\"])\n",
    "print(results_df)\n",
    "\n",
    "\n"
   ]
  }
 ],
 "metadata": {
  "kernelspec": {
   "display_name": "Python 3",
   "language": "python",
   "name": "python3"
  },
  "language_info": {
   "codemirror_mode": {
    "name": "ipython",
    "version": 3
   },
   "file_extension": ".py",
   "mimetype": "text/x-python",
   "name": "python",
   "nbconvert_exporter": "python",
   "pygments_lexer": "ipython3",
   "version": "3.11.9"
  }
 },
 "nbformat": 4,
 "nbformat_minor": 2
}
